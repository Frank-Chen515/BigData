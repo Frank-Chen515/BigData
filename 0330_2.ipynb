{
  "nbformat": 4,
  "nbformat_minor": 0,
  "metadata": {
    "colab": {
      "name": "0330_2.ipynb",
      "provenance": [],
      "collapsed_sections": [],
      "include_colab_link": true
    },
    "kernelspec": {
      "name": "ir",
      "display_name": "R"
    }
  },
  "cells": [
    {
      "cell_type": "markdown",
      "metadata": {
        "id": "view-in-github",
        "colab_type": "text"
      },
      "source": [
        "<a href=\"https://colab.research.google.com/github/Frank-Chen515/BigData/blob/main/0330_2.ipynb\" target=\"_parent\"><img src=\"https://colab.research.google.com/assets/colab-badge.svg\" alt=\"Open In Colab\"/></a>"
      ]
    },
    {
      "cell_type": "code",
      "metadata": {
        "id": "FlosypcuMx1R"
      },
      "source": [
        "install.packages(\"rJava\")"
      ],
      "execution_count": null,
      "outputs": []
    },
    {
      "cell_type": "code",
      "metadata": {
        "id": "fQvSthTNOUlx"
      },
      "source": [
        "install.packages(\"jiebaR\")"
      ],
      "execution_count": null,
      "outputs": []
    },
    {
      "cell_type": "code",
      "metadata": {
        "id": "LbDrNMCXOmYZ"
      },
      "source": [
        "install.packages(\"tmcn\")"
      ],
      "execution_count": null,
      "outputs": []
    },
    {
      "cell_type": "code",
      "metadata": {
        "id": "s2WEceO4OvUK"
      },
      "source": [
        "install.packages(\"dplyr\")"
      ],
      "execution_count": null,
      "outputs": []
    },
    {
      "cell_type": "code",
      "metadata": {
        "id": "OuHEMU1WO2Ay"
      },
      "source": [
        "install.packages(\"lubridate\")"
      ],
      "execution_count": null,
      "outputs": []
    },
    {
      "cell_type": "code",
      "metadata": {
        "id": "UZvX3-WlPFE5"
      },
      "source": [
        "install.packages(\"stringr\")"
      ],
      "execution_count": null,
      "outputs": []
    },
    {
      "cell_type": "code",
      "metadata": {
        "id": "k2N8Hu2EPSFq"
      },
      "source": [
        "install.packages(\"wordcloud\")"
      ],
      "execution_count": null,
      "outputs": []
    },
    {
      "cell_type": "code",
      "metadata": {
        "id": "g9ONnEFKPWfZ"
      },
      "source": [
        "install.packages(\"Rwordseg\" , repos = \"http://R-Forge.R-project.org\")"
      ],
      "execution_count": null,
      "outputs": []
    },
    {
      "cell_type": "code",
      "metadata": {
        "id": "ycYms-HaNdS5"
      },
      "source": [
        "library(dplyr)\n",
        "library(lubridate)\n",
        "library(stringr)\n",
        "library(jiebaR)\n",
        "library(wordcloud)"
      ],
      "execution_count": null,
      "outputs": []
    },
    {
      "cell_type": "code",
      "metadata": {
        "id": "Zmks6ptKN56y"
      },
      "source": [
        "content <- \"對投資人來說，陸行之也提出三個值得密切關注的觀察指標。首先，之後所有7奈米及以下的EUV製程工藝產能，是否都會放在此新成立部門，並由Dr.Thakur統籌負責生產內部x86 CPU及GPU產品，以及服務外部客戶，例如亞馬遜、微軟、Google、IBM…等。\n",
        "第二，也許這是蓋爾辛格想到，斷絕晶圓製造部門長期吃大鍋飯、拖累設計部門的解決方案。\n",
        "陸行之分析，也許他想直接把先進製程製造部門砍掉，但來自晶圓製造部門老臣的官僚體系壓力太大，因此直接成立一個新的先進晶圓製造部門，以跟台積電、三星的代工業務直接比對成本、良率、量產時間，數年後結果可望會揭曉。\n",
        "第三，觀察台積電、三星及英特爾代工未來幾年的資本支出變化，以及英特爾設計訂單的產品種類及變化。\n",
        "一位長期關注半導體產業的分析師則認為，不管英特爾說得多天花亂墜，後續最大的重點就是先前卡關的7奈米製程何時能出現進展？2022年底7奈米製程到底能不能開始生產，而到了2023年，7奈米製程又到底能不能量產？\""
      ],
      "execution_count": 49,
      "outputs": []
    },
    {
      "cell_type": "code",
      "metadata": {
        "id": "6OQXgGuXODEy"
      },
      "source": [
        "cutter <- worker(bylines = F)"
      ],
      "execution_count": 47,
      "outputs": []
    },
    {
      "cell_type": "code",
      "metadata": {
        "colab": {
          "base_uri": "https://localhost:8080/",
          "height": 204
        },
        "id": "1gXtM87iPvzJ",
        "outputId": "101fa40b-ee6c-4173-b403-e8104b1b6ddd"
      },
      "source": [
        "cutter[content]"
      ],
      "execution_count": 48,
      "outputs": [
        {
          "output_type": "display_data",
          "data": {
            "text/plain": [
              "  [1] \"對\"       \"投資人\"   \"來說\"     \"陸行\"     \"之\"       \"也\"      \n",
              "  [7] \"提出\"     \"三個\"     \"值得\"     \"密切\"     \"關注\"     \"的\"      \n",
              " [13] \"觀察\"     \"指標\"     \"首先\"     \"之後\"     \"所有\"     \"7\"       \n",
              " [19] \"奈米\"     \"及\"       \"以下\"     \"的\"       \"EUV\"      \"製程\"    \n",
              " [25] \"工藝\"     \"產能\"     \"是否\"     \"都\"       \"會\"       \"放在\"    \n",
              " [31] \"此新\"     \"成立\"     \"部門\"     \"並由\"     \"Dr\"       \"Thakur\"  \n",
              " [37] \"統籌\"     \"負責\"     \"生產\"     \"內部\"     \"x86\"      \"CPU\"     \n",
              " [43] \"及\"       \"GPU\"      \"產品\"     \"以及\"     \"服務\"     \"外部\"    \n",
              " [49] \"客戶\"     \"例如\"     \"亞馬遜\"   \"微軟\"     \"Google\"   \"IBM\"     \n",
              " [55] \"等\"       \"第二\"     \"也許\"     \"這是\"     \"蓋爾\"     \"辛格\"    \n",
              " [61] \"想到\"     \"斷絕\"     \"晶圓\"     \"製造\"     \"部門\"     \"長期\"    \n",
              " [67] \"吃大鍋飯\" \"拖累\"     \"設計部門\" \"的\"       \"解決方案\" \"陸行\"    \n",
              " [73] \"之\"       \"分析\"     \"也許\"     \"他\"       \"想\"       \"直接\"    \n",
              " [79] \"把\"       \"先進\"     \"製程\"     \"製造\"     \"部門\"     \"砍掉\"    \n",
              " [85] \"但\"       \"來自\"     \"晶圓\"     \"製造\"     \"部門\"     \"老臣\"    \n",
              " [91] \"的\"       \"官僚\"     \"體系\"     \"壓力\"     \"太大\"     \"因此\"    \n",
              " [97] \"直接\"     \"成立\"     \"一個\"     \"新\"       \"的\"       \"先進\"    \n",
              "[103] \"晶圓\"     \"製造\"     \"部門\"     \"以\"       \"跟\"       \"台\"      \n",
              "[109] \"積電\"     \"三星\"     \"的\"       \"代工\"     \"業務\"     \"直接\"    \n",
              "[115] \"比對\"     \"成本\"     \"良\"       \"率\"       \"量產\"     \"時間\"    \n",
              "[121] \"數年\"     \"後\"       \"結果\"     \"可望\"     \"會\"       \"揭曉\"    \n",
              "[127] \"第三\"     \"觀察\"     \"台積電\"   \"三星\"     \"及\"       \"英特爾\"  \n",
              "[133] \"代工\"     \"未來\"     \"幾年\"     \"的\"       \"資本\"     \"支出\"    \n",
              "[139] \"變化\"     \"以及\"     \"英特爾\"   \"設計\"     \"訂單\"     \"的\"      \n",
              "[145] \"產品種類\" \"及\"       \"變化\"     \"一位\"     \"長期\"     \"關注\"    \n",
              "[151] \"半導體\"   \"產業\"     \"的\"       \"分析師\"   \"則認\"     \"為\"      \n",
              "[157] \"不管\"     \"英特爾\"   \"說\"       \"得\"       \"多\"       \"天花亂墜\"\n",
              "[163] \"後續\"     \"最大\"     \"的\"       \"重點\"     \"就是\"     \"先前\"    \n",
              "[169] \"卡關\"     \"的\"       \"7\"        \"奈米\"     \"製程\"     \"何時能\"  \n",
              "[175] \"出現\"     \"進展\"     \"2022\"     \"年底\"     \"7\"        \"奈米\"    \n",
              "[181] \"製程\"     \"到底\"     \"能\"       \"不能\"     \"開始\"     \"生產\"    \n",
              "[187] \"而\"       \"到\"       \"了\"       \"2023\"     \"年\"       \"7\"       \n",
              "[193] \"奈米\"     \"製程\"     \"又\"       \"到底\"     \"能\"       \"不能\"    \n",
              "[199] \"量產\"    "
            ],
            "text/latex": "\\begin{enumerate*}\n\\item '對'\n\\item '投資人'\n\\item '來說'\n\\item '陸行'\n\\item '之'\n\\item '也'\n\\item '提出'\n\\item '三個'\n\\item '值得'\n\\item '密切'\n\\item '關注'\n\\item '的'\n\\item '觀察'\n\\item '指標'\n\\item '首先'\n\\item '之後'\n\\item '所有'\n\\item '7'\n\\item '奈米'\n\\item '及'\n\\item '以下'\n\\item '的'\n\\item 'EUV'\n\\item '製程'\n\\item '工藝'\n\\item '產能'\n\\item '是否'\n\\item '都'\n\\item '會'\n\\item '放在'\n\\item '此新'\n\\item '成立'\n\\item '部門'\n\\item '並由'\n\\item 'Dr'\n\\item 'Thakur'\n\\item '統籌'\n\\item '負責'\n\\item '生產'\n\\item '內部'\n\\item 'x86'\n\\item 'CPU'\n\\item '及'\n\\item 'GPU'\n\\item '產品'\n\\item '以及'\n\\item '服務'\n\\item '外部'\n\\item '客戶'\n\\item '例如'\n\\item '亞馬遜'\n\\item '微軟'\n\\item 'Google'\n\\item 'IBM'\n\\item '等'\n\\item '第二'\n\\item '也許'\n\\item '這是'\n\\item '蓋爾'\n\\item '辛格'\n\\item '想到'\n\\item '斷絕'\n\\item '晶圓'\n\\item '製造'\n\\item '部門'\n\\item '長期'\n\\item '吃大鍋飯'\n\\item '拖累'\n\\item '設計部門'\n\\item '的'\n\\item '解決方案'\n\\item '陸行'\n\\item '之'\n\\item '分析'\n\\item '也許'\n\\item '他'\n\\item '想'\n\\item '直接'\n\\item '把'\n\\item '先進'\n\\item '製程'\n\\item '製造'\n\\item '部門'\n\\item '砍掉'\n\\item '但'\n\\item '來自'\n\\item '晶圓'\n\\item '製造'\n\\item '部門'\n\\item '老臣'\n\\item '的'\n\\item '官僚'\n\\item '體系'\n\\item '壓力'\n\\item '太大'\n\\item '因此'\n\\item '直接'\n\\item '成立'\n\\item '一個'\n\\item '新'\n\\item '的'\n\\item '先進'\n\\item '晶圓'\n\\item '製造'\n\\item '部門'\n\\item '以'\n\\item '跟'\n\\item '台'\n\\item '積電'\n\\item '三星'\n\\item '的'\n\\item '代工'\n\\item '業務'\n\\item '直接'\n\\item '比對'\n\\item '成本'\n\\item '良'\n\\item '率'\n\\item '量產'\n\\item '時間'\n\\item '數年'\n\\item '後'\n\\item '結果'\n\\item '可望'\n\\item '會'\n\\item '揭曉'\n\\item '第三'\n\\item '觀察'\n\\item '台積電'\n\\item '三星'\n\\item '及'\n\\item '英特爾'\n\\item '代工'\n\\item '未來'\n\\item '幾年'\n\\item '的'\n\\item '資本'\n\\item '支出'\n\\item '變化'\n\\item '以及'\n\\item '英特爾'\n\\item '設計'\n\\item '訂單'\n\\item '的'\n\\item '產品種類'\n\\item '及'\n\\item '變化'\n\\item '一位'\n\\item '長期'\n\\item '關注'\n\\item '半導體'\n\\item '產業'\n\\item '的'\n\\item '分析師'\n\\item '則認'\n\\item '為'\n\\item '不管'\n\\item '英特爾'\n\\item '說'\n\\item '得'\n\\item '多'\n\\item '天花亂墜'\n\\item '後續'\n\\item '最大'\n\\item '的'\n\\item '重點'\n\\item '就是'\n\\item '先前'\n\\item '卡關'\n\\item '的'\n\\item '7'\n\\item '奈米'\n\\item '製程'\n\\item '何時能'\n\\item '出現'\n\\item '進展'\n\\item '2022'\n\\item '年底'\n\\item '7'\n\\item '奈米'\n\\item '製程'\n\\item '到底'\n\\item '能'\n\\item '不能'\n\\item '開始'\n\\item '生產'\n\\item '而'\n\\item '到'\n\\item '了'\n\\item '2023'\n\\item '年'\n\\item '7'\n\\item '奈米'\n\\item '製程'\n\\item '又'\n\\item '到底'\n\\item '能'\n\\item '不能'\n\\item '量產'\n\\end{enumerate*}\n",
            "text/markdown": "1. '對'\n2. '投資人'\n3. '來說'\n4. '陸行'\n5. '之'\n6. '也'\n7. '提出'\n8. '三個'\n9. '值得'\n10. '密切'\n11. '關注'\n12. '的'\n13. '觀察'\n14. '指標'\n15. '首先'\n16. '之後'\n17. '所有'\n18. '7'\n19. '奈米'\n20. '及'\n21. '以下'\n22. '的'\n23. 'EUV'\n24. '製程'\n25. '工藝'\n26. '產能'\n27. '是否'\n28. '都'\n29. '會'\n30. '放在'\n31. '此新'\n32. '成立'\n33. '部門'\n34. '並由'\n35. 'Dr'\n36. 'Thakur'\n37. '統籌'\n38. '負責'\n39. '生產'\n40. '內部'\n41. 'x86'\n42. 'CPU'\n43. '及'\n44. 'GPU'\n45. '產品'\n46. '以及'\n47. '服務'\n48. '外部'\n49. '客戶'\n50. '例如'\n51. '亞馬遜'\n52. '微軟'\n53. 'Google'\n54. 'IBM'\n55. '等'\n56. '第二'\n57. '也許'\n58. '這是'\n59. '蓋爾'\n60. '辛格'\n61. '想到'\n62. '斷絕'\n63. '晶圓'\n64. '製造'\n65. '部門'\n66. '長期'\n67. '吃大鍋飯'\n68. '拖累'\n69. '設計部門'\n70. '的'\n71. '解決方案'\n72. '陸行'\n73. '之'\n74. '分析'\n75. '也許'\n76. '他'\n77. '想'\n78. '直接'\n79. '把'\n80. '先進'\n81. '製程'\n82. '製造'\n83. '部門'\n84. '砍掉'\n85. '但'\n86. '來自'\n87. '晶圓'\n88. '製造'\n89. '部門'\n90. '老臣'\n91. '的'\n92. '官僚'\n93. '體系'\n94. '壓力'\n95. '太大'\n96. '因此'\n97. '直接'\n98. '成立'\n99. '一個'\n100. '新'\n101. '的'\n102. '先進'\n103. '晶圓'\n104. '製造'\n105. '部門'\n106. '以'\n107. '跟'\n108. '台'\n109. '積電'\n110. '三星'\n111. '的'\n112. '代工'\n113. '業務'\n114. '直接'\n115. '比對'\n116. '成本'\n117. '良'\n118. '率'\n119. '量產'\n120. '時間'\n121. '數年'\n122. '後'\n123. '結果'\n124. '可望'\n125. '會'\n126. '揭曉'\n127. '第三'\n128. '觀察'\n129. '台積電'\n130. '三星'\n131. '及'\n132. '英特爾'\n133. '代工'\n134. '未來'\n135. '幾年'\n136. '的'\n137. '資本'\n138. '支出'\n139. '變化'\n140. '以及'\n141. '英特爾'\n142. '設計'\n143. '訂單'\n144. '的'\n145. '產品種類'\n146. '及'\n147. '變化'\n148. '一位'\n149. '長期'\n150. '關注'\n151. '半導體'\n152. '產業'\n153. '的'\n154. '分析師'\n155. '則認'\n156. '為'\n157. '不管'\n158. '英特爾'\n159. '說'\n160. '得'\n161. '多'\n162. '天花亂墜'\n163. '後續'\n164. '最大'\n165. '的'\n166. '重點'\n167. '就是'\n168. '先前'\n169. '卡關'\n170. '的'\n171. '7'\n172. '奈米'\n173. '製程'\n174. '何時能'\n175. '出現'\n176. '進展'\n177. '2022'\n178. '年底'\n179. '7'\n180. '奈米'\n181. '製程'\n182. '到底'\n183. '能'\n184. '不能'\n185. '開始'\n186. '生產'\n187. '而'\n188. '到'\n189. '了'\n190. '2023'\n191. '年'\n192. '7'\n193. '奈米'\n194. '製程'\n195. '又'\n196. '到底'\n197. '能'\n198. '不能'\n199. '量產'\n\n\n",
            "text/html": [
              "<style>\n",
              ".list-inline {list-style: none; margin:0; padding: 0}\n",
              ".list-inline>li {display: inline-block}\n",
              ".list-inline>li:not(:last-child)::after {content: \"\\00b7\"; padding: 0 .5ex}\n",
              "</style>\n",
              "<ol class=list-inline><li>'對'</li><li>'投資人'</li><li>'來說'</li><li>'陸行'</li><li>'之'</li><li>'也'</li><li>'提出'</li><li>'三個'</li><li>'值得'</li><li>'密切'</li><li>'關注'</li><li>'的'</li><li>'觀察'</li><li>'指標'</li><li>'首先'</li><li>'之後'</li><li>'所有'</li><li>'7'</li><li>'奈米'</li><li>'及'</li><li>'以下'</li><li>'的'</li><li>'EUV'</li><li>'製程'</li><li>'工藝'</li><li>'產能'</li><li>'是否'</li><li>'都'</li><li>'會'</li><li>'放在'</li><li>'此新'</li><li>'成立'</li><li>'部門'</li><li>'並由'</li><li>'Dr'</li><li>'Thakur'</li><li>'統籌'</li><li>'負責'</li><li>'生產'</li><li>'內部'</li><li>'x86'</li><li>'CPU'</li><li>'及'</li><li>'GPU'</li><li>'產品'</li><li>'以及'</li><li>'服務'</li><li>'外部'</li><li>'客戶'</li><li>'例如'</li><li>'亞馬遜'</li><li>'微軟'</li><li>'Google'</li><li>'IBM'</li><li>'等'</li><li>'第二'</li><li>'也許'</li><li>'這是'</li><li>'蓋爾'</li><li>'辛格'</li><li>'想到'</li><li>'斷絕'</li><li>'晶圓'</li><li>'製造'</li><li>'部門'</li><li>'長期'</li><li>'吃大鍋飯'</li><li>'拖累'</li><li>'設計部門'</li><li>'的'</li><li>'解決方案'</li><li>'陸行'</li><li>'之'</li><li>'分析'</li><li>'也許'</li><li>'他'</li><li>'想'</li><li>'直接'</li><li>'把'</li><li>'先進'</li><li>'製程'</li><li>'製造'</li><li>'部門'</li><li>'砍掉'</li><li>'但'</li><li>'來自'</li><li>'晶圓'</li><li>'製造'</li><li>'部門'</li><li>'老臣'</li><li>'的'</li><li>'官僚'</li><li>'體系'</li><li>'壓力'</li><li>'太大'</li><li>'因此'</li><li>'直接'</li><li>'成立'</li><li>'一個'</li><li>'新'</li><li>'的'</li><li>'先進'</li><li>'晶圓'</li><li>'製造'</li><li>'部門'</li><li>'以'</li><li>'跟'</li><li>'台'</li><li>'積電'</li><li>'三星'</li><li>'的'</li><li>'代工'</li><li>'業務'</li><li>'直接'</li><li>'比對'</li><li>'成本'</li><li>'良'</li><li>'率'</li><li>'量產'</li><li>'時間'</li><li>'數年'</li><li>'後'</li><li>'結果'</li><li>'可望'</li><li>'會'</li><li>'揭曉'</li><li>'第三'</li><li>'觀察'</li><li>'台積電'</li><li>'三星'</li><li>'及'</li><li>'英特爾'</li><li>'代工'</li><li>'未來'</li><li>'幾年'</li><li>'的'</li><li>'資本'</li><li>'支出'</li><li>'變化'</li><li>'以及'</li><li>'英特爾'</li><li>'設計'</li><li>'訂單'</li><li>'的'</li><li>'產品種類'</li><li>'及'</li><li>'變化'</li><li>'一位'</li><li>'長期'</li><li>'關注'</li><li>'半導體'</li><li>'產業'</li><li>'的'</li><li>'分析師'</li><li>'則認'</li><li>'為'</li><li>'不管'</li><li>'英特爾'</li><li>'說'</li><li>'得'</li><li>'多'</li><li>'天花亂墜'</li><li>'後續'</li><li>'最大'</li><li>'的'</li><li>'重點'</li><li>'就是'</li><li>'先前'</li><li>'卡關'</li><li>'的'</li><li>'7'</li><li>'奈米'</li><li>'製程'</li><li>'何時能'</li><li>'出現'</li><li>'進展'</li><li>'2022'</li><li>'年底'</li><li>'7'</li><li>'奈米'</li><li>'製程'</li><li>'到底'</li><li>'能'</li><li>'不能'</li><li>'開始'</li><li>'生產'</li><li>'而'</li><li>'到'</li><li>'了'</li><li>'2023'</li><li>'年'</li><li>'7'</li><li>'奈米'</li><li>'製程'</li><li>'又'</li><li>'到底'</li><li>'能'</li><li>'不能'</li><li>'量產'</li></ol>\n"
            ]
          },
          "metadata": {
            "tags": []
          }
        }
      ]
    },
    {
      "cell_type": "code",
      "metadata": {
        "id": "xIuQjEHtP1Zy"
      },
      "source": [
        "new_words <- c(\"Dr.Thakur\" , \"7奈米製程\" , \"半導體產業\" ,\"EUV製程工藝產能\")\n",
        "for (i in 1:length(new_words)){\n",
        "  new_user_word(cutter , new_words[i])\n",
        "}"
      ],
      "execution_count": 50,
      "outputs": []
    },
    {
      "cell_type": "code",
      "metadata": {
        "colab": {
          "base_uri": "https://localhost:8080/",
          "height": 187
        },
        "id": "aprrwJUPQZ77",
        "outputId": "537f9a1c-0737-4577-c198-fc81f9f553b6"
      },
      "source": [
        "content <- str_remove_all(content, \"[0-9a-zA-Z]+?\")\n",
        "cutter[content]"
      ],
      "execution_count": 51,
      "outputs": [
        {
          "output_type": "display_data",
          "data": {
            "text/plain": [
              "  [1] \"對\"         \"投資人\"     \"來說\"       \"陸行\"       \"之\"        \n",
              "  [6] \"也\"         \"提出\"       \"三個\"       \"值得\"       \"密切\"      \n",
              " [11] \"關注\"       \"的\"         \"觀察\"       \"指標\"       \"首先\"      \n",
              " [16] \"之後\"       \"所有\"       \"奈米\"       \"及\"         \"以下\"      \n",
              " [21] \"的\"         \"製程\"       \"工藝\"       \"產能\"       \"是否\"      \n",
              " [26] \"都\"         \"會\"         \"放在\"       \"此新\"       \"成立\"      \n",
              " [31] \"部門\"       \"並由\"       \"統籌\"       \"負責\"       \"生產\"      \n",
              " [36] \"內部\"       \"及\"         \"產品\"       \"以及\"       \"服務\"      \n",
              " [41] \"外部\"       \"客戶\"       \"例如\"       \"亞馬遜\"     \"微軟\"      \n",
              " [46] \"等\"         \"第二\"       \"也許\"       \"這是\"       \"蓋爾\"      \n",
              " [51] \"辛格\"       \"想到\"       \"斷絕\"       \"晶圓\"       \"製造\"      \n",
              " [56] \"部門\"       \"長期\"       \"吃大鍋飯\"   \"拖累\"       \"設計部門\"  \n",
              " [61] \"的\"         \"解決方案\"   \"陸行\"       \"之\"         \"分析\"      \n",
              " [66] \"也許\"       \"他\"         \"想\"         \"直接\"       \"把\"        \n",
              " [71] \"先進\"       \"製程\"       \"製造\"       \"部門\"       \"砍掉\"      \n",
              " [76] \"但\"         \"來自\"       \"晶圓\"       \"製造\"       \"部門\"      \n",
              " [81] \"老臣\"       \"的\"         \"官僚\"       \"體系\"       \"壓力\"      \n",
              " [86] \"太大\"       \"因此\"       \"直接\"       \"成立\"       \"一個\"      \n",
              " [91] \"新\"         \"的\"         \"先進\"       \"晶圓\"       \"製造\"      \n",
              " [96] \"部門\"       \"以\"         \"跟\"         \"台\"         \"積電\"      \n",
              "[101] \"三星\"       \"的\"         \"代工\"       \"業務\"       \"直接\"      \n",
              "[106] \"比對\"       \"成本\"       \"良\"         \"率\"         \"量產\"      \n",
              "[111] \"時間\"       \"數年\"       \"後\"         \"結果\"       \"可望\"      \n",
              "[116] \"會\"         \"揭曉\"       \"第三\"       \"觀察\"       \"台積電\"    \n",
              "[121] \"三星\"       \"及\"         \"英特爾\"     \"代工\"       \"未來\"      \n",
              "[126] \"幾年\"       \"的\"         \"資本\"       \"支出\"       \"變化\"      \n",
              "[131] \"以及\"       \"英特爾\"     \"設計\"       \"訂單\"       \"的\"        \n",
              "[136] \"產品種類\"   \"及\"         \"變化\"       \"一位\"       \"長期\"      \n",
              "[141] \"關注\"       \"半導體產業\" \"的\"         \"分析師\"     \"則認\"      \n",
              "[146] \"為\"         \"不管\"       \"英特爾\"     \"說\"         \"得\"        \n",
              "[151] \"多\"         \"天花亂墜\"   \"後續\"       \"最大\"       \"的\"        \n",
              "[156] \"重點\"       \"就是\"       \"先前\"       \"卡關\"       \"的\"        \n",
              "[161] \"奈米\"       \"製程\"       \"何時能\"     \"出現\"       \"進展\"      \n",
              "[166] \"年底\"       \"奈米\"       \"製程\"       \"到底\"       \"能\"        \n",
              "[171] \"不能\"       \"開始\"       \"生產\"       \"而\"         \"到\"        \n",
              "[176] \"了\"         \"年\"         \"奈米\"       \"製程\"       \"又\"        \n",
              "[181] \"到底\"       \"能\"         \"不能\"       \"量產\"      "
            ],
            "text/latex": "\\begin{enumerate*}\n\\item '對'\n\\item '投資人'\n\\item '來說'\n\\item '陸行'\n\\item '之'\n\\item '也'\n\\item '提出'\n\\item '三個'\n\\item '值得'\n\\item '密切'\n\\item '關注'\n\\item '的'\n\\item '觀察'\n\\item '指標'\n\\item '首先'\n\\item '之後'\n\\item '所有'\n\\item '奈米'\n\\item '及'\n\\item '以下'\n\\item '的'\n\\item '製程'\n\\item '工藝'\n\\item '產能'\n\\item '是否'\n\\item '都'\n\\item '會'\n\\item '放在'\n\\item '此新'\n\\item '成立'\n\\item '部門'\n\\item '並由'\n\\item '統籌'\n\\item '負責'\n\\item '生產'\n\\item '內部'\n\\item '及'\n\\item '產品'\n\\item '以及'\n\\item '服務'\n\\item '外部'\n\\item '客戶'\n\\item '例如'\n\\item '亞馬遜'\n\\item '微軟'\n\\item '等'\n\\item '第二'\n\\item '也許'\n\\item '這是'\n\\item '蓋爾'\n\\item '辛格'\n\\item '想到'\n\\item '斷絕'\n\\item '晶圓'\n\\item '製造'\n\\item '部門'\n\\item '長期'\n\\item '吃大鍋飯'\n\\item '拖累'\n\\item '設計部門'\n\\item '的'\n\\item '解決方案'\n\\item '陸行'\n\\item '之'\n\\item '分析'\n\\item '也許'\n\\item '他'\n\\item '想'\n\\item '直接'\n\\item '把'\n\\item '先進'\n\\item '製程'\n\\item '製造'\n\\item '部門'\n\\item '砍掉'\n\\item '但'\n\\item '來自'\n\\item '晶圓'\n\\item '製造'\n\\item '部門'\n\\item '老臣'\n\\item '的'\n\\item '官僚'\n\\item '體系'\n\\item '壓力'\n\\item '太大'\n\\item '因此'\n\\item '直接'\n\\item '成立'\n\\item '一個'\n\\item '新'\n\\item '的'\n\\item '先進'\n\\item '晶圓'\n\\item '製造'\n\\item '部門'\n\\item '以'\n\\item '跟'\n\\item '台'\n\\item '積電'\n\\item '三星'\n\\item '的'\n\\item '代工'\n\\item '業務'\n\\item '直接'\n\\item '比對'\n\\item '成本'\n\\item '良'\n\\item '率'\n\\item '量產'\n\\item '時間'\n\\item '數年'\n\\item '後'\n\\item '結果'\n\\item '可望'\n\\item '會'\n\\item '揭曉'\n\\item '第三'\n\\item '觀察'\n\\item '台積電'\n\\item '三星'\n\\item '及'\n\\item '英特爾'\n\\item '代工'\n\\item '未來'\n\\item '幾年'\n\\item '的'\n\\item '資本'\n\\item '支出'\n\\item '變化'\n\\item '以及'\n\\item '英特爾'\n\\item '設計'\n\\item '訂單'\n\\item '的'\n\\item '產品種類'\n\\item '及'\n\\item '變化'\n\\item '一位'\n\\item '長期'\n\\item '關注'\n\\item '半導體產業'\n\\item '的'\n\\item '分析師'\n\\item '則認'\n\\item '為'\n\\item '不管'\n\\item '英特爾'\n\\item '說'\n\\item '得'\n\\item '多'\n\\item '天花亂墜'\n\\item '後續'\n\\item '最大'\n\\item '的'\n\\item '重點'\n\\item '就是'\n\\item '先前'\n\\item '卡關'\n\\item '的'\n\\item '奈米'\n\\item '製程'\n\\item '何時能'\n\\item '出現'\n\\item '進展'\n\\item '年底'\n\\item '奈米'\n\\item '製程'\n\\item '到底'\n\\item '能'\n\\item '不能'\n\\item '開始'\n\\item '生產'\n\\item '而'\n\\item '到'\n\\item '了'\n\\item '年'\n\\item '奈米'\n\\item '製程'\n\\item '又'\n\\item '到底'\n\\item '能'\n\\item '不能'\n\\item '量產'\n\\end{enumerate*}\n",
            "text/markdown": "1. '對'\n2. '投資人'\n3. '來說'\n4. '陸行'\n5. '之'\n6. '也'\n7. '提出'\n8. '三個'\n9. '值得'\n10. '密切'\n11. '關注'\n12. '的'\n13. '觀察'\n14. '指標'\n15. '首先'\n16. '之後'\n17. '所有'\n18. '奈米'\n19. '及'\n20. '以下'\n21. '的'\n22. '製程'\n23. '工藝'\n24. '產能'\n25. '是否'\n26. '都'\n27. '會'\n28. '放在'\n29. '此新'\n30. '成立'\n31. '部門'\n32. '並由'\n33. '統籌'\n34. '負責'\n35. '生產'\n36. '內部'\n37. '及'\n38. '產品'\n39. '以及'\n40. '服務'\n41. '外部'\n42. '客戶'\n43. '例如'\n44. '亞馬遜'\n45. '微軟'\n46. '等'\n47. '第二'\n48. '也許'\n49. '這是'\n50. '蓋爾'\n51. '辛格'\n52. '想到'\n53. '斷絕'\n54. '晶圓'\n55. '製造'\n56. '部門'\n57. '長期'\n58. '吃大鍋飯'\n59. '拖累'\n60. '設計部門'\n61. '的'\n62. '解決方案'\n63. '陸行'\n64. '之'\n65. '分析'\n66. '也許'\n67. '他'\n68. '想'\n69. '直接'\n70. '把'\n71. '先進'\n72. '製程'\n73. '製造'\n74. '部門'\n75. '砍掉'\n76. '但'\n77. '來自'\n78. '晶圓'\n79. '製造'\n80. '部門'\n81. '老臣'\n82. '的'\n83. '官僚'\n84. '體系'\n85. '壓力'\n86. '太大'\n87. '因此'\n88. '直接'\n89. '成立'\n90. '一個'\n91. '新'\n92. '的'\n93. '先進'\n94. '晶圓'\n95. '製造'\n96. '部門'\n97. '以'\n98. '跟'\n99. '台'\n100. '積電'\n101. '三星'\n102. '的'\n103. '代工'\n104. '業務'\n105. '直接'\n106. '比對'\n107. '成本'\n108. '良'\n109. '率'\n110. '量產'\n111. '時間'\n112. '數年'\n113. '後'\n114. '結果'\n115. '可望'\n116. '會'\n117. '揭曉'\n118. '第三'\n119. '觀察'\n120. '台積電'\n121. '三星'\n122. '及'\n123. '英特爾'\n124. '代工'\n125. '未來'\n126. '幾年'\n127. '的'\n128. '資本'\n129. '支出'\n130. '變化'\n131. '以及'\n132. '英特爾'\n133. '設計'\n134. '訂單'\n135. '的'\n136. '產品種類'\n137. '及'\n138. '變化'\n139. '一位'\n140. '長期'\n141. '關注'\n142. '半導體產業'\n143. '的'\n144. '分析師'\n145. '則認'\n146. '為'\n147. '不管'\n148. '英特爾'\n149. '說'\n150. '得'\n151. '多'\n152. '天花亂墜'\n153. '後續'\n154. '最大'\n155. '的'\n156. '重點'\n157. '就是'\n158. '先前'\n159. '卡關'\n160. '的'\n161. '奈米'\n162. '製程'\n163. '何時能'\n164. '出現'\n165. '進展'\n166. '年底'\n167. '奈米'\n168. '製程'\n169. '到底'\n170. '能'\n171. '不能'\n172. '開始'\n173. '生產'\n174. '而'\n175. '到'\n176. '了'\n177. '年'\n178. '奈米'\n179. '製程'\n180. '又'\n181. '到底'\n182. '能'\n183. '不能'\n184. '量產'\n\n\n",
            "text/html": [
              "<style>\n",
              ".list-inline {list-style: none; margin:0; padding: 0}\n",
              ".list-inline>li {display: inline-block}\n",
              ".list-inline>li:not(:last-child)::after {content: \"\\00b7\"; padding: 0 .5ex}\n",
              "</style>\n",
              "<ol class=list-inline><li>'對'</li><li>'投資人'</li><li>'來說'</li><li>'陸行'</li><li>'之'</li><li>'也'</li><li>'提出'</li><li>'三個'</li><li>'值得'</li><li>'密切'</li><li>'關注'</li><li>'的'</li><li>'觀察'</li><li>'指標'</li><li>'首先'</li><li>'之後'</li><li>'所有'</li><li>'奈米'</li><li>'及'</li><li>'以下'</li><li>'的'</li><li>'製程'</li><li>'工藝'</li><li>'產能'</li><li>'是否'</li><li>'都'</li><li>'會'</li><li>'放在'</li><li>'此新'</li><li>'成立'</li><li>'部門'</li><li>'並由'</li><li>'統籌'</li><li>'負責'</li><li>'生產'</li><li>'內部'</li><li>'及'</li><li>'產品'</li><li>'以及'</li><li>'服務'</li><li>'外部'</li><li>'客戶'</li><li>'例如'</li><li>'亞馬遜'</li><li>'微軟'</li><li>'等'</li><li>'第二'</li><li>'也許'</li><li>'這是'</li><li>'蓋爾'</li><li>'辛格'</li><li>'想到'</li><li>'斷絕'</li><li>'晶圓'</li><li>'製造'</li><li>'部門'</li><li>'長期'</li><li>'吃大鍋飯'</li><li>'拖累'</li><li>'設計部門'</li><li>'的'</li><li>'解決方案'</li><li>'陸行'</li><li>'之'</li><li>'分析'</li><li>'也許'</li><li>'他'</li><li>'想'</li><li>'直接'</li><li>'把'</li><li>'先進'</li><li>'製程'</li><li>'製造'</li><li>'部門'</li><li>'砍掉'</li><li>'但'</li><li>'來自'</li><li>'晶圓'</li><li>'製造'</li><li>'部門'</li><li>'老臣'</li><li>'的'</li><li>'官僚'</li><li>'體系'</li><li>'壓力'</li><li>'太大'</li><li>'因此'</li><li>'直接'</li><li>'成立'</li><li>'一個'</li><li>'新'</li><li>'的'</li><li>'先進'</li><li>'晶圓'</li><li>'製造'</li><li>'部門'</li><li>'以'</li><li>'跟'</li><li>'台'</li><li>'積電'</li><li>'三星'</li><li>'的'</li><li>'代工'</li><li>'業務'</li><li>'直接'</li><li>'比對'</li><li>'成本'</li><li>'良'</li><li>'率'</li><li>'量產'</li><li>'時間'</li><li>'數年'</li><li>'後'</li><li>'結果'</li><li>'可望'</li><li>'會'</li><li>'揭曉'</li><li>'第三'</li><li>'觀察'</li><li>'台積電'</li><li>'三星'</li><li>'及'</li><li>'英特爾'</li><li>'代工'</li><li>'未來'</li><li>'幾年'</li><li>'的'</li><li>'資本'</li><li>'支出'</li><li>'變化'</li><li>'以及'</li><li>'英特爾'</li><li>'設計'</li><li>'訂單'</li><li>'的'</li><li>'產品種類'</li><li>'及'</li><li>'變化'</li><li>'一位'</li><li>'長期'</li><li>'關注'</li><li>'半導體產業'</li><li>'的'</li><li>'分析師'</li><li>'則認'</li><li>'為'</li><li>'不管'</li><li>'英特爾'</li><li>'說'</li><li>'得'</li><li>'多'</li><li>'天花亂墜'</li><li>'後續'</li><li>'最大'</li><li>'的'</li><li>'重點'</li><li>'就是'</li><li>'先前'</li><li>'卡關'</li><li>'的'</li><li>'奈米'</li><li>'製程'</li><li>'何時能'</li><li>'出現'</li><li>'進展'</li><li>'年底'</li><li>'奈米'</li><li>'製程'</li><li>'到底'</li><li>'能'</li><li>'不能'</li><li>'開始'</li><li>'生產'</li><li>'而'</li><li>'到'</li><li>'了'</li><li>'年'</li><li>'奈米'</li><li>'製程'</li><li>'又'</li><li>'到底'</li><li>'能'</li><li>'不能'</li><li>'量產'</li></ol>\n"
            ]
          },
          "metadata": {
            "tags": []
          }
        }
      ]
    },
    {
      "cell_type": "code",
      "metadata": {
        "colab": {
          "base_uri": "https://localhost:8080/",
          "height": 34
        },
        "id": "S3gLOis-Qg4y",
        "outputId": "d6fc6fa0-cbd0-43db-acc7-f76b320acb44"
      },
      "source": [
        "new_words < c(\"Dr.Thakur\" , \"7奈米製程\" , \"半導體產業\" ,\"EUV製程工藝產能\")\n",
        "writeLines(new_words, \"new_words.txt\")\n",
        "\n",
        "stop_words <- c(\"在\",\"之\",\"更\",\"個\",\"未\",\"而\",\"也\",\"得\",\"又\",\"但\",\"的\",\"及\",\"直接\")\n",
        "writeLines(stop_words, \"stop_words.txt\")\n"
      ],
      "execution_count": 63,
      "outputs": [
        {
          "output_type": "display_data",
          "data": {
            "text/plain": [
              "[1] FALSE FALSE FALSE FALSE"
            ],
            "text/latex": "\\begin{enumerate*}\n\\item FALSE\n\\item FALSE\n\\item FALSE\n\\item FALSE\n\\end{enumerate*}\n",
            "text/markdown": "1. FALSE\n2. FALSE\n3. FALSE\n4. FALSE\n\n\n",
            "text/html": [
              "<style>\n",
              ".list-inline {list-style: none; margin:0; padding: 0}\n",
              ".list-inline>li {display: inline-block}\n",
              ".list-inline>li:not(:last-child)::after {content: \"\\00b7\"; padding: 0 .5ex}\n",
              "</style>\n",
              "<ol class=list-inline><li>FALSE</li><li>FALSE</li><li>FALSE</li><li>FALSE</li></ol>\n"
            ]
          },
          "metadata": {
            "tags": []
          }
        }
      ]
    },
    {
      "cell_type": "code",
      "metadata": {
        "colab": {
          "base_uri": "https://localhost:8080/",
          "height": 170
        },
        "id": "tiflVxxGRZBD",
        "outputId": "adff1c7f-a394-448d-a04a-bf4cf39e0897"
      },
      "source": [
        "cutter <- worker(user = \"new_words.txt\", stop_word = \"stop_words.txt\" , bylines = FALSE)\n",
        "seg_words <- cutter[content]\n",
        "seg_words"
      ],
      "execution_count": 64,
      "outputs": [
        {
          "output_type": "display_data",
          "data": {
            "text/plain": [
              "  [1] \"對\"         \"投資人\"     \"來說\"       \"陸行\"       \"提出\"      \n",
              "  [6] \"三個\"       \"值得\"       \"密切\"       \"關注\"       \"觀察\"      \n",
              " [11] \"指標\"       \"首先\"       \"之後\"       \"所有\"       \"奈米\"      \n",
              " [16] \"以下\"       \"製程\"       \"工藝\"       \"產能\"       \"是否\"      \n",
              " [21] \"都\"         \"會\"         \"放在\"       \"此新\"       \"成立\"      \n",
              " [26] \"部門\"       \"並由\"       \"統籌\"       \"負責\"       \"生產\"      \n",
              " [31] \"內部\"       \"產品\"       \"以及\"       \"服務\"       \"外部\"      \n",
              " [36] \"客戶\"       \"例如\"       \"亞馬遜\"     \"微軟\"       \"等\"        \n",
              " [41] \"第二\"       \"也許\"       \"這是\"       \"蓋爾\"       \"辛格\"      \n",
              " [46] \"想到\"       \"斷絕\"       \"晶圓\"       \"製造\"       \"部門\"      \n",
              " [51] \"長期\"       \"吃大鍋飯\"   \"拖累\"       \"設計部門\"   \"解決方案\"  \n",
              " [56] \"陸行\"       \"分析\"       \"也許\"       \"他\"         \"想\"        \n",
              " [61] \"直接\"       \"把\"         \"先進\"       \"製程\"       \"製造\"      \n",
              " [66] \"部門\"       \"砍掉\"       \"來自\"       \"晶圓\"       \"製造\"      \n",
              " [71] \"部門\"       \"老臣\"       \"官僚\"       \"體系\"       \"壓力\"      \n",
              " [76] \"太大\"       \"因此\"       \"直接\"       \"成立\"       \"一個\"      \n",
              " [81] \"新\"         \"先進\"       \"晶圓\"       \"製造\"       \"部門\"      \n",
              " [86] \"以\"         \"跟\"         \"台\"         \"積電\"       \"三星\"      \n",
              " [91] \"代工\"       \"業務\"       \"直接\"       \"比對\"       \"成本\"      \n",
              " [96] \"良\"         \"率\"         \"量產\"       \"時間\"       \"數年\"      \n",
              "[101] \"後\"         \"結果\"       \"可望\"       \"會\"         \"揭曉\"      \n",
              "[106] \"第三\"       \"觀察\"       \"台積電\"     \"三星\"       \"英特爾\"    \n",
              "[111] \"代工\"       \"未來\"       \"幾年\"       \"資本\"       \"支出\"      \n",
              "[116] \"變化\"       \"以及\"       \"英特爾\"     \"設計\"       \"訂單\"      \n",
              "[121] \"產品種類\"   \"變化\"       \"一位\"       \"長期\"       \"關注\"      \n",
              "[126] \"半導體產業\" \"分析師\"     \"則認\"       \"為\"         \"不管\"      \n",
              "[131] \"英特爾\"     \"說\"         \"多\"         \"天花亂墜\"   \"後續\"      \n",
              "[136] \"最大\"       \"重點\"       \"就是\"       \"先前\"       \"卡關\"      \n",
              "[141] \"奈米\"       \"製程\"       \"何時能\"     \"出現\"       \"進展\"      \n",
              "[146] \"年底\"       \"奈米\"       \"製程\"       \"到底\"       \"能\"        \n",
              "[151] \"不能\"       \"開始\"       \"生產\"       \"到\"         \"了\"        \n",
              "[156] \"年\"         \"奈米\"       \"製程\"       \"到底\"       \"能\"        \n",
              "[161] \"不能\"       \"量產\"      "
            ],
            "text/latex": "\\begin{enumerate*}\n\\item '對'\n\\item '投資人'\n\\item '來說'\n\\item '陸行'\n\\item '提出'\n\\item '三個'\n\\item '值得'\n\\item '密切'\n\\item '關注'\n\\item '觀察'\n\\item '指標'\n\\item '首先'\n\\item '之後'\n\\item '所有'\n\\item '奈米'\n\\item '以下'\n\\item '製程'\n\\item '工藝'\n\\item '產能'\n\\item '是否'\n\\item '都'\n\\item '會'\n\\item '放在'\n\\item '此新'\n\\item '成立'\n\\item '部門'\n\\item '並由'\n\\item '統籌'\n\\item '負責'\n\\item '生產'\n\\item '內部'\n\\item '產品'\n\\item '以及'\n\\item '服務'\n\\item '外部'\n\\item '客戶'\n\\item '例如'\n\\item '亞馬遜'\n\\item '微軟'\n\\item '等'\n\\item '第二'\n\\item '也許'\n\\item '這是'\n\\item '蓋爾'\n\\item '辛格'\n\\item '想到'\n\\item '斷絕'\n\\item '晶圓'\n\\item '製造'\n\\item '部門'\n\\item '長期'\n\\item '吃大鍋飯'\n\\item '拖累'\n\\item '設計部門'\n\\item '解決方案'\n\\item '陸行'\n\\item '分析'\n\\item '也許'\n\\item '他'\n\\item '想'\n\\item '直接'\n\\item '把'\n\\item '先進'\n\\item '製程'\n\\item '製造'\n\\item '部門'\n\\item '砍掉'\n\\item '來自'\n\\item '晶圓'\n\\item '製造'\n\\item '部門'\n\\item '老臣'\n\\item '官僚'\n\\item '體系'\n\\item '壓力'\n\\item '太大'\n\\item '因此'\n\\item '直接'\n\\item '成立'\n\\item '一個'\n\\item '新'\n\\item '先進'\n\\item '晶圓'\n\\item '製造'\n\\item '部門'\n\\item '以'\n\\item '跟'\n\\item '台'\n\\item '積電'\n\\item '三星'\n\\item '代工'\n\\item '業務'\n\\item '直接'\n\\item '比對'\n\\item '成本'\n\\item '良'\n\\item '率'\n\\item '量產'\n\\item '時間'\n\\item '數年'\n\\item '後'\n\\item '結果'\n\\item '可望'\n\\item '會'\n\\item '揭曉'\n\\item '第三'\n\\item '觀察'\n\\item '台積電'\n\\item '三星'\n\\item '英特爾'\n\\item '代工'\n\\item '未來'\n\\item '幾年'\n\\item '資本'\n\\item '支出'\n\\item '變化'\n\\item '以及'\n\\item '英特爾'\n\\item '設計'\n\\item '訂單'\n\\item '產品種類'\n\\item '變化'\n\\item '一位'\n\\item '長期'\n\\item '關注'\n\\item '半導體產業'\n\\item '分析師'\n\\item '則認'\n\\item '為'\n\\item '不管'\n\\item '英特爾'\n\\item '說'\n\\item '多'\n\\item '天花亂墜'\n\\item '後續'\n\\item '最大'\n\\item '重點'\n\\item '就是'\n\\item '先前'\n\\item '卡關'\n\\item '奈米'\n\\item '製程'\n\\item '何時能'\n\\item '出現'\n\\item '進展'\n\\item '年底'\n\\item '奈米'\n\\item '製程'\n\\item '到底'\n\\item '能'\n\\item '不能'\n\\item '開始'\n\\item '生產'\n\\item '到'\n\\item '了'\n\\item '年'\n\\item '奈米'\n\\item '製程'\n\\item '到底'\n\\item '能'\n\\item '不能'\n\\item '量產'\n\\end{enumerate*}\n",
            "text/markdown": "1. '對'\n2. '投資人'\n3. '來說'\n4. '陸行'\n5. '提出'\n6. '三個'\n7. '值得'\n8. '密切'\n9. '關注'\n10. '觀察'\n11. '指標'\n12. '首先'\n13. '之後'\n14. '所有'\n15. '奈米'\n16. '以下'\n17. '製程'\n18. '工藝'\n19. '產能'\n20. '是否'\n21. '都'\n22. '會'\n23. '放在'\n24. '此新'\n25. '成立'\n26. '部門'\n27. '並由'\n28. '統籌'\n29. '負責'\n30. '生產'\n31. '內部'\n32. '產品'\n33. '以及'\n34. '服務'\n35. '外部'\n36. '客戶'\n37. '例如'\n38. '亞馬遜'\n39. '微軟'\n40. '等'\n41. '第二'\n42. '也許'\n43. '這是'\n44. '蓋爾'\n45. '辛格'\n46. '想到'\n47. '斷絕'\n48. '晶圓'\n49. '製造'\n50. '部門'\n51. '長期'\n52. '吃大鍋飯'\n53. '拖累'\n54. '設計部門'\n55. '解決方案'\n56. '陸行'\n57. '分析'\n58. '也許'\n59. '他'\n60. '想'\n61. '直接'\n62. '把'\n63. '先進'\n64. '製程'\n65. '製造'\n66. '部門'\n67. '砍掉'\n68. '來自'\n69. '晶圓'\n70. '製造'\n71. '部門'\n72. '老臣'\n73. '官僚'\n74. '體系'\n75. '壓力'\n76. '太大'\n77. '因此'\n78. '直接'\n79. '成立'\n80. '一個'\n81. '新'\n82. '先進'\n83. '晶圓'\n84. '製造'\n85. '部門'\n86. '以'\n87. '跟'\n88. '台'\n89. '積電'\n90. '三星'\n91. '代工'\n92. '業務'\n93. '直接'\n94. '比對'\n95. '成本'\n96. '良'\n97. '率'\n98. '量產'\n99. '時間'\n100. '數年'\n101. '後'\n102. '結果'\n103. '可望'\n104. '會'\n105. '揭曉'\n106. '第三'\n107. '觀察'\n108. '台積電'\n109. '三星'\n110. '英特爾'\n111. '代工'\n112. '未來'\n113. '幾年'\n114. '資本'\n115. '支出'\n116. '變化'\n117. '以及'\n118. '英特爾'\n119. '設計'\n120. '訂單'\n121. '產品種類'\n122. '變化'\n123. '一位'\n124. '長期'\n125. '關注'\n126. '半導體產業'\n127. '分析師'\n128. '則認'\n129. '為'\n130. '不管'\n131. '英特爾'\n132. '說'\n133. '多'\n134. '天花亂墜'\n135. '後續'\n136. '最大'\n137. '重點'\n138. '就是'\n139. '先前'\n140. '卡關'\n141. '奈米'\n142. '製程'\n143. '何時能'\n144. '出現'\n145. '進展'\n146. '年底'\n147. '奈米'\n148. '製程'\n149. '到底'\n150. '能'\n151. '不能'\n152. '開始'\n153. '生產'\n154. '到'\n155. '了'\n156. '年'\n157. '奈米'\n158. '製程'\n159. '到底'\n160. '能'\n161. '不能'\n162. '量產'\n\n\n",
            "text/html": [
              "<style>\n",
              ".list-inline {list-style: none; margin:0; padding: 0}\n",
              ".list-inline>li {display: inline-block}\n",
              ".list-inline>li:not(:last-child)::after {content: \"\\00b7\"; padding: 0 .5ex}\n",
              "</style>\n",
              "<ol class=list-inline><li>'對'</li><li>'投資人'</li><li>'來說'</li><li>'陸行'</li><li>'提出'</li><li>'三個'</li><li>'值得'</li><li>'密切'</li><li>'關注'</li><li>'觀察'</li><li>'指標'</li><li>'首先'</li><li>'之後'</li><li>'所有'</li><li>'奈米'</li><li>'以下'</li><li>'製程'</li><li>'工藝'</li><li>'產能'</li><li>'是否'</li><li>'都'</li><li>'會'</li><li>'放在'</li><li>'此新'</li><li>'成立'</li><li>'部門'</li><li>'並由'</li><li>'統籌'</li><li>'負責'</li><li>'生產'</li><li>'內部'</li><li>'產品'</li><li>'以及'</li><li>'服務'</li><li>'外部'</li><li>'客戶'</li><li>'例如'</li><li>'亞馬遜'</li><li>'微軟'</li><li>'等'</li><li>'第二'</li><li>'也許'</li><li>'這是'</li><li>'蓋爾'</li><li>'辛格'</li><li>'想到'</li><li>'斷絕'</li><li>'晶圓'</li><li>'製造'</li><li>'部門'</li><li>'長期'</li><li>'吃大鍋飯'</li><li>'拖累'</li><li>'設計部門'</li><li>'解決方案'</li><li>'陸行'</li><li>'分析'</li><li>'也許'</li><li>'他'</li><li>'想'</li><li>'直接'</li><li>'把'</li><li>'先進'</li><li>'製程'</li><li>'製造'</li><li>'部門'</li><li>'砍掉'</li><li>'來自'</li><li>'晶圓'</li><li>'製造'</li><li>'部門'</li><li>'老臣'</li><li>'官僚'</li><li>'體系'</li><li>'壓力'</li><li>'太大'</li><li>'因此'</li><li>'直接'</li><li>'成立'</li><li>'一個'</li><li>'新'</li><li>'先進'</li><li>'晶圓'</li><li>'製造'</li><li>'部門'</li><li>'以'</li><li>'跟'</li><li>'台'</li><li>'積電'</li><li>'三星'</li><li>'代工'</li><li>'業務'</li><li>'直接'</li><li>'比對'</li><li>'成本'</li><li>'良'</li><li>'率'</li><li>'量產'</li><li>'時間'</li><li>'數年'</li><li>'後'</li><li>'結果'</li><li>'可望'</li><li>'會'</li><li>'揭曉'</li><li>'第三'</li><li>'觀察'</li><li>'台積電'</li><li>'三星'</li><li>'英特爾'</li><li>'代工'</li><li>'未來'</li><li>'幾年'</li><li>'資本'</li><li>'支出'</li><li>'變化'</li><li>'以及'</li><li>'英特爾'</li><li>'設計'</li><li>'訂單'</li><li>'產品種類'</li><li>'變化'</li><li>'一位'</li><li>'長期'</li><li>'關注'</li><li>'半導體產業'</li><li>'分析師'</li><li>'則認'</li><li>'為'</li><li>'不管'</li><li>'英特爾'</li><li>'說'</li><li>'多'</li><li>'天花亂墜'</li><li>'後續'</li><li>'最大'</li><li>'重點'</li><li>'就是'</li><li>'先前'</li><li>'卡關'</li><li>'奈米'</li><li>'製程'</li><li>'何時能'</li><li>'出現'</li><li>'進展'</li><li>'年底'</li><li>'奈米'</li><li>'製程'</li><li>'到底'</li><li>'能'</li><li>'不能'</li><li>'開始'</li><li>'生產'</li><li>'到'</li><li>'了'</li><li>'年'</li><li>'奈米'</li><li>'製程'</li><li>'到底'</li><li>'能'</li><li>'不能'</li><li>'量產'</li></ol>\n"
            ]
          },
          "metadata": {
            "tags": []
          }
        }
      ]
    },
    {
      "cell_type": "code",
      "metadata": {
        "id": "yFLJq-26Rf7J"
      },
      "source": [
        "txt_freq <- freq(seg_words)"
      ],
      "execution_count": 65,
      "outputs": []
    },
    {
      "cell_type": "code",
      "metadata": {
        "id": "RmW1KkmiRm4q"
      },
      "source": [
        "txt_freq <- arrange(txt_freq, desc(freq))"
      ],
      "execution_count": 66,
      "outputs": []
    },
    {
      "cell_type": "code",
      "metadata": {
        "colab": {
          "base_uri": "https://localhost:8080/",
          "height": 283
        },
        "id": "wLOm2jvpRws6",
        "outputId": "43d9221c-c33a-4c7c-8e03-56d5268266b1"
      },
      "source": [
        "head(txt_freq)"
      ],
      "execution_count": 67,
      "outputs": [
        {
          "output_type": "display_data",
          "data": {
            "text/plain": [
              "  char freq\n",
              "1 部門 5   \n",
              "2 製程 5   \n",
              "3 製造 4   \n",
              "4 奈米 4   \n",
              "5 直接 3   \n",
              "6 晶圓 3   "
            ],
            "text/latex": "A data.frame: 6 × 2\n\\begin{tabular}{r|ll}\n  & char & freq\\\\\n  & <chr> & <dbl>\\\\\n\\hline\n\t1 & 部門 & 5\\\\\n\t2 & 製程 & 5\\\\\n\t3 & 製造 & 4\\\\\n\t4 & 奈米 & 4\\\\\n\t5 & 直接 & 3\\\\\n\t6 & 晶圓 & 3\\\\\n\\end{tabular}\n",
            "text/markdown": "\nA data.frame: 6 × 2\n\n| <!--/--> | char &lt;chr&gt; | freq &lt;dbl&gt; |\n|---|---|---|\n| 1 | 部門 | 5 |\n| 2 | 製程 | 5 |\n| 3 | 製造 | 4 |\n| 4 | 奈米 | 4 |\n| 5 | 直接 | 3 |\n| 6 | 晶圓 | 3 |\n\n",
            "text/html": [
              "<table class=\"dataframe\">\n",
              "<caption>A data.frame: 6 × 2</caption>\n",
              "<thead>\n",
              "\t<tr><th></th><th scope=col>char</th><th scope=col>freq</th></tr>\n",
              "\t<tr><th></th><th scope=col>&lt;chr&gt;</th><th scope=col>&lt;dbl&gt;</th></tr>\n",
              "</thead>\n",
              "<tbody>\n",
              "\t<tr><th scope=row>1</th><td>部門</td><td>5</td></tr>\n",
              "\t<tr><th scope=row>2</th><td>製程</td><td>5</td></tr>\n",
              "\t<tr><th scope=row>3</th><td>製造</td><td>4</td></tr>\n",
              "\t<tr><th scope=row>4</th><td>奈米</td><td>4</td></tr>\n",
              "\t<tr><th scope=row>5</th><td>直接</td><td>3</td></tr>\n",
              "\t<tr><th scope=row>6</th><td>晶圓</td><td>3</td></tr>\n",
              "</tbody>\n",
              "</table>\n"
            ]
          },
          "metadata": {
            "tags": []
          }
        }
      ]
    },
    {
      "cell_type": "code",
      "metadata": {
        "colab": {
          "base_uri": "https://localhost:8080/"
        },
        "id": "cn5frdrQXE8z",
        "outputId": "ee9053c0-bb85-4227-8310-0507aac45d4f"
      },
      "source": [
        "install.packages(\"showtext\")"
      ],
      "execution_count": 68,
      "outputs": [
        {
          "output_type": "stream",
          "text": [
            "Installing package into ‘/usr/local/lib/R/site-library’\n",
            "(as ‘lib’ is unspecified)\n",
            "\n"
          ],
          "name": "stderr"
        }
      ]
    },
    {
      "cell_type": "code",
      "metadata": {
        "id": "lfqnrJyIXIoi"
      },
      "source": [
        "library(showtext)\n",
        "showtext.auto(enable = TRUE)"
      ],
      "execution_count": 69,
      "outputs": []
    },
    {
      "cell_type": "code",
      "metadata": {
        "colab": {
          "base_uri": "https://localhost:8080/",
          "height": 1000
        },
        "id": "2PNRSMlpR0ka",
        "outputId": "1bc6e616-7fa6-420c-f170-6b5a20ff2aac"
      },
      "source": [
        "par(family=(\"Microsoft YaHei\"))\n",
        "wordcloud(txt_freq$char, txt_freq$freq, min.freq = 2, random.order = F,\n",
        "ordered.colors = F, colors = rainbow(nrow(txt_freq)))"
      ],
      "execution_count": 70,
      "outputs": [
        {
          "output_type": "stream",
          "text": [
            "Warning message in strwidth(words[i], cex = size[i], ...):\n",
            "“font family 'Microsoft YaHei' not found, will use 'wqy-microhei' instead”\n",
            "Warning message in strheight(words[i], cex = size[i], ...):\n",
            "“font family 'Microsoft YaHei' not found, will use 'sans' instead”\n",
            "Warning message in text.default(x1, y1, words[i], cex = size[i], offset = 0, srt = rotWord * :\n",
            "“font family 'Microsoft YaHei' not found, will use 'wqy-microhei' instead”\n",
            "Warning message in text.default(x1, y1, words[i], cex = size[i], offset = 0, srt = rotWord * :\n",
            "“font family 'Microsoft YaHei' not found, will use 'wqy-microhei' instead”\n",
            "Warning message in text.default(x1, y1, words[i], cex = size[i], offset = 0, srt = rotWord * :\n",
            "“font family 'Microsoft YaHei' not found, will use 'wqy-microhei' instead”\n",
            "Warning message in text.default(x1, y1, words[i], cex = size[i], offset = 0, srt = rotWord * :\n",
            "“font family 'Microsoft YaHei' not found, will use 'wqy-microhei' instead”\n",
            "Warning message in strwidth(words[i], cex = size[i], ...):\n",
            "“font family 'Microsoft YaHei' not found, will use 'wqy-microhei' instead”\n",
            "Warning message in text.default(x1, y1, words[i], cex = size[i], offset = 0, srt = rotWord * :\n",
            "“font family 'Microsoft YaHei' not found, will use 'wqy-microhei' instead”\n",
            "Warning message in text.default(x1, y1, words[i], cex = size[i], offset = 0, srt = rotWord * :\n",
            "“font family 'Microsoft YaHei' not found, will use 'wqy-microhei' instead”\n",
            "Warning message in text.default(x1, y1, words[i], cex = size[i], offset = 0, srt = rotWord * :\n",
            "“font family 'Microsoft YaHei' not found, will use 'wqy-microhei' instead”\n",
            "Warning message in text.default(x1, y1, words[i], cex = size[i], offset = 0, srt = rotWord * :\n",
            "“font family 'Microsoft YaHei' not found, will use 'wqy-microhei' instead”\n",
            "Warning message in strwidth(words[i], cex = size[i], ...):\n",
            "“font family 'Microsoft YaHei' not found, will use 'wqy-microhei' instead”\n",
            "Warning message in strheight(words[i], cex = size[i], ...):\n",
            "“font family 'Microsoft YaHei' not found, will use 'sans' instead”\n",
            "Warning message in text.default(x1, y1, words[i], cex = size[i], offset = 0, srt = rotWord * :\n",
            "“font family 'Microsoft YaHei' not found, will use 'wqy-microhei' instead”\n",
            "Warning message in text.default(x1, y1, words[i], cex = size[i], offset = 0, srt = rotWord * :\n",
            "“font family 'Microsoft YaHei' not found, will use 'wqy-microhei' instead”\n",
            "Warning message in text.default(x1, y1, words[i], cex = size[i], offset = 0, srt = rotWord * :\n",
            "“font family 'Microsoft YaHei' not found, will use 'wqy-microhei' instead”\n",
            "Warning message in text.default(x1, y1, words[i], cex = size[i], offset = 0, srt = rotWord * :\n",
            "“font family 'Microsoft YaHei' not found, will use 'wqy-microhei' instead”\n",
            "Warning message in strwidth(words[i], cex = size[i], ...):\n",
            "“font family 'Microsoft YaHei' not found, will use 'wqy-microhei' instead”\n",
            "Warning message in text.default(x1, y1, words[i], cex = size[i], offset = 0, srt = rotWord * :\n",
            "“font family 'Microsoft YaHei' not found, will use 'wqy-microhei' instead”\n",
            "Warning message in text.default(x1, y1, words[i], cex = size[i], offset = 0, srt = rotWord * :\n",
            "“font family 'Microsoft YaHei' not found, will use 'wqy-microhei' instead”\n",
            "Warning message in text.default(x1, y1, words[i], cex = size[i], offset = 0, srt = rotWord * :\n",
            "“font family 'Microsoft YaHei' not found, will use 'wqy-microhei' instead”\n",
            "Warning message in text.default(x1, y1, words[i], cex = size[i], offset = 0, srt = rotWord * :\n",
            "“font family 'Microsoft YaHei' not found, will use 'wqy-microhei' instead”\n",
            "Warning message in strwidth(words[i], cex = size[i], ...):\n",
            "“font family 'Microsoft YaHei' not found, will use 'wqy-microhei' instead”\n",
            "Warning message in strheight(words[i], cex = size[i], ...):\n",
            "“font family 'Microsoft YaHei' not found, will use 'sans' instead”\n",
            "Warning message in text.default(x1, y1, words[i], cex = size[i], offset = 0, srt = rotWord * :\n",
            "“font family 'Microsoft YaHei' not found, will use 'wqy-microhei' instead”\n",
            "Warning message in text.default(x1, y1, words[i], cex = size[i], offset = 0, srt = rotWord * :\n",
            "“font family 'Microsoft YaHei' not found, will use 'wqy-microhei' instead”\n",
            "Warning message in text.default(x1, y1, words[i], cex = size[i], offset = 0, srt = rotWord * :\n",
            "“font family 'Microsoft YaHei' not found, will use 'wqy-microhei' instead”\n",
            "Warning message in text.default(x1, y1, words[i], cex = size[i], offset = 0, srt = rotWord * :\n",
            "“font family 'Microsoft YaHei' not found, will use 'wqy-microhei' instead”\n",
            "Warning message in strwidth(words[i], cex = size[i], ...):\n",
            "“font family 'Microsoft YaHei' not found, will use 'wqy-microhei' instead”\n",
            "Warning message in text.default(x1, y1, words[i], cex = size[i], offset = 0, srt = rotWord * :\n",
            "“font family 'Microsoft YaHei' not found, will use 'wqy-microhei' instead”\n",
            "Warning message in text.default(x1, y1, words[i], cex = size[i], offset = 0, srt = rotWord * :\n",
            "“font family 'Microsoft YaHei' not found, will use 'wqy-microhei' instead”\n",
            "Warning message in text.default(x1, y1, words[i], cex = size[i], offset = 0, srt = rotWord * :\n",
            "“font family 'Microsoft YaHei' not found, will use 'wqy-microhei' instead”\n",
            "Warning message in text.default(x1, y1, words[i], cex = size[i], offset = 0, srt = rotWord * :\n",
            "“font family 'Microsoft YaHei' not found, will use 'wqy-microhei' instead”\n",
            "Warning message in strwidth(words[i], cex = size[i], ...):\n",
            "“font family 'Microsoft YaHei' not found, will use 'wqy-microhei' instead”\n",
            "Warning message in text.default(x1, y1, words[i], cex = size[i], offset = 0, srt = rotWord * :\n",
            "“font family 'Microsoft YaHei' not found, will use 'wqy-microhei' instead”\n",
            "Warning message in text.default(x1, y1, words[i], cex = size[i], offset = 0, srt = rotWord * :\n",
            "“font family 'Microsoft YaHei' not found, will use 'wqy-microhei' instead”\n",
            "Warning message in text.default(x1, y1, words[i], cex = size[i], offset = 0, srt = rotWord * :\n",
            "“font family 'Microsoft YaHei' not found, will use 'wqy-microhei' instead”\n",
            "Warning message in text.default(x1, y1, words[i], cex = size[i], offset = 0, srt = rotWord * :\n",
            "“font family 'Microsoft YaHei' not found, will use 'wqy-microhei' instead”\n",
            "Warning message in text.default(x1, y1, words[i], cex = size[i], offset = 0, srt = rotWord * :\n",
            "“font family 'Microsoft YaHei' not found, will use 'wqy-microhei' instead”\n",
            "Warning message in strwidth(words[i], cex = size[i], ...):\n",
            "“font family 'Microsoft YaHei' not found, will use 'wqy-microhei' instead”\n",
            "Warning message in strheight(words[i], cex = size[i], ...):\n",
            "“font family 'Microsoft YaHei' not found, will use 'sans' instead”\n",
            "Warning message in text.default(x1, y1, words[i], cex = size[i], offset = 0, srt = rotWord * :\n",
            "“font family 'Microsoft YaHei' not found, will use 'wqy-microhei' instead”\n",
            "Warning message in text.default(x1, y1, words[i], cex = size[i], offset = 0, srt = rotWord * :\n",
            "“font family 'Microsoft YaHei' not found, will use 'wqy-microhei' instead”\n",
            "Warning message in text.default(x1, y1, words[i], cex = size[i], offset = 0, srt = rotWord * :\n",
            "“font family 'Microsoft YaHei' not found, will use 'wqy-microhei' instead”\n",
            "Warning message in strwidth(words[i], cex = size[i], ...):\n",
            "“font family 'Microsoft YaHei' not found, will use 'wqy-microhei' instead”\n",
            "Warning message in text.default(x1, y1, words[i], cex = size[i], offset = 0, srt = rotWord * :\n",
            "“font family 'Microsoft YaHei' not found, will use 'wqy-microhei' instead”\n",
            "Warning message in text.default(x1, y1, words[i], cex = size[i], offset = 0, srt = rotWord * :\n",
            "“font family 'Microsoft YaHei' not found, will use 'wqy-microhei' instead”\n",
            "Warning message in text.default(x1, y1, words[i], cex = size[i], offset = 0, srt = rotWord * :\n",
            "“font family 'Microsoft YaHei' not found, will use 'wqy-microhei' instead”\n",
            "Warning message in text.default(x1, y1, words[i], cex = size[i], offset = 0, srt = rotWord * :\n",
            "“font family 'Microsoft YaHei' not found, will use 'wqy-microhei' instead”\n",
            "Warning message in strwidth(words[i], cex = size[i], ...):\n",
            "“font family 'Microsoft YaHei' not found, will use 'wqy-microhei' instead”\n",
            "Warning message in text.default(x1, y1, words[i], cex = size[i], offset = 0, srt = rotWord * :\n",
            "“font family 'Microsoft YaHei' not found, will use 'wqy-microhei' instead”\n",
            "Warning message in text.default(x1, y1, words[i], cex = size[i], offset = 0, srt = rotWord * :\n",
            "“font family 'Microsoft YaHei' not found, will use 'wqy-microhei' instead”\n",
            "Warning message in text.default(x1, y1, words[i], cex = size[i], offset = 0, srt = rotWord * :\n",
            "“font family 'Microsoft YaHei' not found, will use 'wqy-microhei' instead”\n",
            "Warning message in text.default(x1, y1, words[i], cex = size[i], offset = 0, srt = rotWord * :\n",
            "“font family 'Microsoft YaHei' not found, will use 'wqy-microhei' instead”\n",
            "Warning message in strwidth(words[i], cex = size[i], ...):\n",
            "“font family 'Microsoft YaHei' not found, will use 'wqy-microhei' instead”\n",
            "Warning message in text.default(x1, y1, words[i], cex = size[i], offset = 0, srt = rotWord * :\n",
            "“font family 'Microsoft YaHei' not found, will use 'wqy-microhei' instead”\n",
            "Warning message in text.default(x1, y1, words[i], cex = size[i], offset = 0, srt = rotWord * :\n",
            "“font family 'Microsoft YaHei' not found, will use 'wqy-microhei' instead”\n",
            "Warning message in text.default(x1, y1, words[i], cex = size[i], offset = 0, srt = rotWord * :\n",
            "“font family 'Microsoft YaHei' not found, will use 'wqy-microhei' instead”\n",
            "Warning message in text.default(x1, y1, words[i], cex = size[i], offset = 0, srt = rotWord * :\n",
            "“font family 'Microsoft YaHei' not found, will use 'wqy-microhei' instead”\n",
            "Warning message in strwidth(words[i], cex = size[i], ...):\n",
            "“font family 'Microsoft YaHei' not found, will use 'wqy-microhei' instead”\n",
            "Warning message in text.default(x1, y1, words[i], cex = size[i], offset = 0, srt = rotWord * :\n",
            "“font family 'Microsoft YaHei' not found, will use 'wqy-microhei' instead”\n",
            "Warning message in text.default(x1, y1, words[i], cex = size[i], offset = 0, srt = rotWord * :\n",
            "“font family 'Microsoft YaHei' not found, will use 'wqy-microhei' instead”\n",
            "Warning message in text.default(x1, y1, words[i], cex = size[i], offset = 0, srt = rotWord * :\n",
            "“font family 'Microsoft YaHei' not found, will use 'wqy-microhei' instead”\n",
            "Warning message in text.default(x1, y1, words[i], cex = size[i], offset = 0, srt = rotWord * :\n",
            "“font family 'Microsoft YaHei' not found, will use 'wqy-microhei' instead”\n",
            "Warning message in strwidth(words[i], cex = size[i], ...):\n",
            "“font family 'Microsoft YaHei' not found, will use 'wqy-microhei' instead”\n",
            "Warning message in text.default(x1, y1, words[i], cex = size[i], offset = 0, srt = rotWord * :\n",
            "“font family 'Microsoft YaHei' not found, will use 'wqy-microhei' instead”\n",
            "Warning message in text.default(x1, y1, words[i], cex = size[i], offset = 0, srt = rotWord * :\n",
            "“font family 'Microsoft YaHei' not found, will use 'wqy-microhei' instead”\n",
            "Warning message in text.default(x1, y1, words[i], cex = size[i], offset = 0, srt = rotWord * :\n",
            "“font family 'Microsoft YaHei' not found, will use 'wqy-microhei' instead”\n",
            "Warning message in strwidth(words[i], cex = size[i], ...):\n",
            "“font family 'Microsoft YaHei' not found, will use 'wqy-microhei' instead”\n",
            "Warning message in text.default(x1, y1, words[i], cex = size[i], offset = 0, srt = rotWord * :\n",
            "“font family 'Microsoft YaHei' not found, will use 'wqy-microhei' instead”\n",
            "Warning message in text.default(x1, y1, words[i], cex = size[i], offset = 0, srt = rotWord * :\n",
            "“font family 'Microsoft YaHei' not found, will use 'wqy-microhei' instead”\n",
            "Warning message in text.default(x1, y1, words[i], cex = size[i], offset = 0, srt = rotWord * :\n",
            "“font family 'Microsoft YaHei' not found, will use 'wqy-microhei' instead”\n",
            "Warning message in text.default(x1, y1, words[i], cex = size[i], offset = 0, srt = rotWord * :\n",
            "“font family 'Microsoft YaHei' not found, will use 'wqy-microhei' instead”\n",
            "Warning message in strwidth(words[i], cex = size[i], ...):\n",
            "“font family 'Microsoft YaHei' not found, will use 'wqy-microhei' instead”\n",
            "Warning message in text.default(x1, y1, words[i], cex = size[i], offset = 0, srt = rotWord * :\n",
            "“font family 'Microsoft YaHei' not found, will use 'wqy-microhei' instead”\n",
            "Warning message in text.default(x1, y1, words[i], cex = size[i], offset = 0, srt = rotWord * :\n",
            "“font family 'Microsoft YaHei' not found, will use 'wqy-microhei' instead”\n",
            "Warning message in text.default(x1, y1, words[i], cex = size[i], offset = 0, srt = rotWord * :\n",
            "“font family 'Microsoft YaHei' not found, will use 'wqy-microhei' instead”\n",
            "Warning message in text.default(x1, y1, words[i], cex = size[i], offset = 0, srt = rotWord * :\n",
            "“font family 'Microsoft YaHei' not found, will use 'wqy-microhei' instead”\n",
            "Warning message in strwidth(words[i], cex = size[i], ...):\n",
            "“font family 'Microsoft YaHei' not found, will use 'wqy-microhei' instead”\n",
            "Warning message in text.default(x1, y1, words[i], cex = size[i], offset = 0, srt = rotWord * :\n",
            "“font family 'Microsoft YaHei' not found, will use 'wqy-microhei' instead”\n",
            "Warning message in text.default(x1, y1, words[i], cex = size[i], offset = 0, srt = rotWord * :\n",
            "“font family 'Microsoft YaHei' not found, will use 'wqy-microhei' instead”\n",
            "Warning message in text.default(x1, y1, words[i], cex = size[i], offset = 0, srt = rotWord * :\n",
            "“font family 'Microsoft YaHei' not found, will use 'wqy-microhei' instead”\n",
            "Warning message in text.default(x1, y1, words[i], cex = size[i], offset = 0, srt = rotWord * :\n",
            "“font family 'Microsoft YaHei' not found, will use 'wqy-microhei' instead”\n",
            "Warning message in strwidth(words[i], cex = size[i], ...):\n",
            "“font family 'Microsoft YaHei' not found, will use 'wqy-microhei' instead”\n",
            "Warning message in text.default(x1, y1, words[i], cex = size[i], offset = 0, srt = rotWord * :\n",
            "“font family 'Microsoft YaHei' not found, will use 'wqy-microhei' instead”\n",
            "Warning message in text.default(x1, y1, words[i], cex = size[i], offset = 0, srt = rotWord * :\n",
            "“font family 'Microsoft YaHei' not found, will use 'wqy-microhei' instead”\n",
            "Warning message in text.default(x1, y1, words[i], cex = size[i], offset = 0, srt = rotWord * :\n",
            "“font family 'Microsoft YaHei' not found, will use 'wqy-microhei' instead”\n",
            "Warning message in text.default(x1, y1, words[i], cex = size[i], offset = 0, srt = rotWord * :\n",
            "“font family 'Microsoft YaHei' not found, will use 'wqy-microhei' instead”\n",
            "Warning message in strwidth(words[i], cex = size[i], ...):\n",
            "“font family 'Microsoft YaHei' not found, will use 'wqy-microhei' instead”\n",
            "Warning message in text.default(x1, y1, words[i], cex = size[i], offset = 0, srt = rotWord * :\n",
            "“font family 'Microsoft YaHei' not found, will use 'wqy-microhei' instead”\n",
            "Warning message in text.default(x1, y1, words[i], cex = size[i], offset = 0, srt = rotWord * :\n",
            "“font family 'Microsoft YaHei' not found, will use 'wqy-microhei' instead”\n",
            "Warning message in text.default(x1, y1, words[i], cex = size[i], offset = 0, srt = rotWord * :\n",
            "“font family 'Microsoft YaHei' not found, will use 'wqy-microhei' instead”\n",
            "Warning message in text.default(x1, y1, words[i], cex = size[i], offset = 0, srt = rotWord * :\n",
            "“font family 'Microsoft YaHei' not found, will use 'wqy-microhei' instead”\n",
            "Warning message in strwidth(words[i], cex = size[i], ...):\n",
            "“font family 'Microsoft YaHei' not found, will use 'wqy-microhei' instead”\n",
            "Warning message in text.default(x1, y1, words[i], cex = size[i], offset = 0, srt = rotWord * :\n",
            "“font family 'Microsoft YaHei' not found, will use 'wqy-microhei' instead”\n",
            "Warning message in text.default(x1, y1, words[i], cex = size[i], offset = 0, srt = rotWord * :\n",
            "“font family 'Microsoft YaHei' not found, will use 'wqy-microhei' instead”\n",
            "Warning message in text.default(x1, y1, words[i], cex = size[i], offset = 0, srt = rotWord * :\n",
            "“font family 'Microsoft YaHei' not found, will use 'wqy-microhei' instead”\n",
            "Warning message in text.default(x1, y1, words[i], cex = size[i], offset = 0, srt = rotWord * :\n",
            "“font family 'Microsoft YaHei' not found, will use 'wqy-microhei' instead”\n",
            "Warning message in strwidth(words[i], cex = size[i], ...):\n",
            "“font family 'Microsoft YaHei' not found, will use 'wqy-microhei' instead”\n",
            "Warning message in text.default(x1, y1, words[i], cex = size[i], offset = 0, srt = rotWord * :\n",
            "“font family 'Microsoft YaHei' not found, will use 'wqy-microhei' instead”\n",
            "Warning message in text.default(x1, y1, words[i], cex = size[i], offset = 0, srt = rotWord * :\n",
            "“font family 'Microsoft YaHei' not found, will use 'wqy-microhei' instead”\n",
            "Warning message in text.default(x1, y1, words[i], cex = size[i], offset = 0, srt = rotWord * :\n",
            "“font family 'Microsoft YaHei' not found, will use 'wqy-microhei' instead”\n",
            "Warning message in text.default(x1, y1, words[i], cex = size[i], offset = 0, srt = rotWord * :\n",
            "“font family 'Microsoft YaHei' not found, will use 'wqy-microhei' instead”\n",
            "Warning message in strwidth(words[i], cex = size[i], ...):\n",
            "“font family 'Microsoft YaHei' not found, will use 'wqy-microhei' instead”\n",
            "Warning message in text.default(x1, y1, words[i], cex = size[i], offset = 0, srt = rotWord * :\n",
            "“font family 'Microsoft YaHei' not found, will use 'wqy-microhei' instead”\n",
            "Warning message in text.default(x1, y1, words[i], cex = size[i], offset = 0, srt = rotWord * :\n",
            "“font family 'Microsoft YaHei' not found, will use 'wqy-microhei' instead”\n",
            "Warning message in text.default(x1, y1, words[i], cex = size[i], offset = 0, srt = rotWord * :\n",
            "“font family 'Microsoft YaHei' not found, will use 'wqy-microhei' instead”\n",
            "Warning message in text.default(x1, y1, words[i], cex = size[i], offset = 0, srt = rotWord * :\n",
            "“font family 'Microsoft YaHei' not found, will use 'wqy-microhei' instead”\n",
            "Warning message in strwidth(words[i], cex = size[i], ...):\n",
            "“font family 'Microsoft YaHei' not found, will use 'wqy-microhei' instead”\n",
            "Warning message in text.default(x1, y1, words[i], cex = size[i], offset = 0, srt = rotWord * :\n",
            "“font family 'Microsoft YaHei' not found, will use 'wqy-microhei' instead”\n",
            "Warning message in text.default(x1, y1, words[i], cex = size[i], offset = 0, srt = rotWord * :\n",
            "“font family 'Microsoft YaHei' not found, will use 'wqy-microhei' instead”\n",
            "Warning message in text.default(x1, y1, words[i], cex = size[i], offset = 0, srt = rotWord * :\n",
            "“font family 'Microsoft YaHei' not found, will use 'wqy-microhei' instead”\n",
            "Warning message in text.default(x1, y1, words[i], cex = size[i], offset = 0, srt = rotWord * :\n",
            "“font family 'Microsoft YaHei' not found, will use 'wqy-microhei' instead”\n",
            "Warning message in strwidth(words[i], cex = size[i], ...):\n",
            "“font family 'Microsoft YaHei' not found, will use 'wqy-microhei' instead”\n",
            "Warning message in text.default(x1, y1, words[i], cex = size[i], offset = 0, srt = rotWord * :\n",
            "“font family 'Microsoft YaHei' not found, will use 'wqy-microhei' instead”\n",
            "Warning message in text.default(x1, y1, words[i], cex = size[i], offset = 0, srt = rotWord * :\n",
            "“font family 'Microsoft YaHei' not found, will use 'wqy-microhei' instead”\n",
            "Warning message in text.default(x1, y1, words[i], cex = size[i], offset = 0, srt = rotWord * :\n",
            "“font family 'Microsoft YaHei' not found, will use 'wqy-microhei' instead”\n",
            "Warning message in text.default(x1, y1, words[i], cex = size[i], offset = 0, srt = rotWord * :\n",
            "“font family 'Microsoft YaHei' not found, will use 'wqy-microhei' instead”\n",
            "Warning message in strwidth(words[i], cex = size[i], ...):\n",
            "“font family 'Microsoft YaHei' not found, will use 'wqy-microhei' instead”\n",
            "Warning message in text.default(x1, y1, words[i], cex = size[i], offset = 0, srt = rotWord * :\n",
            "“font family 'Microsoft YaHei' not found, will use 'wqy-microhei' instead”\n",
            "Warning message in text.default(x1, y1, words[i], cex = size[i], offset = 0, srt = rotWord * :\n",
            "“font family 'Microsoft YaHei' not found, will use 'wqy-microhei' instead”\n",
            "Warning message in text.default(x1, y1, words[i], cex = size[i], offset = 0, srt = rotWord * :\n",
            "“font family 'Microsoft YaHei' not found, will use 'wqy-microhei' instead”\n",
            "Warning message in text.default(x1, y1, words[i], cex = size[i], offset = 0, srt = rotWord * :\n",
            "“font family 'Microsoft YaHei' not found, will use 'wqy-microhei' instead”\n"
          ],
          "name": "stderr"
        },
        {
          "output_type": "display_data",
          "data": {
            "image/png": "[encoded data removed]",
            "text/plain": [
              "plot without title"
            ]
          },
          "metadata": {
            "tags": [],
            "image/png": {
              "width": 420,
              "height": 420
            }
          }
        }
      ]
    },
    {
      "cell_type": "code",
      "metadata": {
        "id": "zgxNJ6-FXeOy"
      },
      "source": [
        ""
      ],
      "execution_count": null,
      "outputs": []
    }
  ]
}